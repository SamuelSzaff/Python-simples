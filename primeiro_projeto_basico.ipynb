{
  "nbformat": 4,
  "nbformat_minor": 0,
  "metadata": {
    "colab": {
      "name": "primeiro projeto basico.ipynb",
      "provenance": [],
      "collapsed_sections": [],
      "authorship_tag": "ABX9TyOYmLoPoFtLeO71wnL5jWW8"
    },
    "kernelspec": {
      "name": "python3",
      "display_name": "Python 3"
    },
    "language_info": {
      "name": "python"
    }
  },
  "cells": [
    {
      "cell_type": "markdown",
      "source": [
        "a)Faça um programa em Python que leia um valor inteiro e mostre a tabuada de 1 a 10 do valor lido."
      ],
      "metadata": {
        "id": "i5SMEvlPDTnc"
      }
    },
    {
      "cell_type": "code",
      "execution_count": null,
      "metadata": {
        "colab": {
          "base_uri": "https://localhost:8080/"
        },
        "id": "ncOj1Nyy_YAq",
        "outputId": "b98b88f3-5770-424a-ea57-820549a4f4f8"
      },
      "outputs": [
        {
          "output_type": "stream",
          "name": "stdout",
          "text": [
            "Tabuada do: 6\n",
            "[ 6 12 18 24 30 36 42 48 54]\n"
          ]
        }
      ],
      "source": [
        "import numpy as np\n",
        "y = np.arange(11)\n",
        "x = int(input(\"Tabuada do: \"))\n",
        "print( x * y[1:-1] )"
      ]
    },
    {
      "cell_type": "markdown",
      "source": [
        "b) Construa uma função que receba uma string como parâmetro e devolva outra string com os caracteres embaralhados. Por exemplo: se função receber a palavra python, pode retornar npthyo, ophtyn ou qualquer outra combinação possível, de forma aleatória. Padronize em sua função que todos os caracteres serão devolvidos em caixa alta ou caixa baixa, independentemente de como foram digitados.\n",
        "\n"
      ],
      "metadata": {
        "id": "P6NQAmAMDSMC"
      }
    },
    {
      "cell_type": "code",
      "source": [
        "\n",
        "import string_utils\n",
        "y = str(input(\"Anagrama de: \"))\n",
        "n = string_utils.shuffle(y)\n",
        "z = n.lower()\n",
        "print(z)\n"
      ],
      "metadata": {
        "colab": {
          "base_uri": "https://localhost:8080/"
        },
        "id": "KofG4I28Gj6U",
        "outputId": "cc8b649e-72a8-43cb-9399-4da37049150f"
      },
      "execution_count": null,
      "outputs": [
        {
          "output_type": "stream",
          "name": "stdout",
          "text": [
            "Anagrama de: anfibIO\n",
            "afoinib\n"
          ]
        }
      ]
    }
  ]
}